{
 "cells": [
  {
   "cell_type": "markdown",
   "id": "637b47a5",
   "metadata": {},
   "source": [
    "## Programming Assignment_1\n",
    "-------------"
   ]
  },
  {
   "cell_type": "markdown",
   "id": "0c647dbe",
   "metadata": {},
   "source": [
    "### 1. Write a Python program to print \"Hello Python\"?"
   ]
  },
  {
   "cell_type": "code",
   "execution_count": 1,
   "id": "6709b144",
   "metadata": {},
   "outputs": [
    {
     "name": "stdout",
     "output_type": "stream",
     "text": [
      "Hello Python\n"
     ]
    }
   ],
   "source": [
    "print(\"Hello Python\")"
   ]
  },
  {
   "cell_type": "markdown",
   "id": "fc18a6cd",
   "metadata": {},
   "source": [
    "### 2. Write a Python program to do arithmetical operations addition and division.?\n"
   ]
  },
  {
   "cell_type": "code",
   "execution_count": 2,
   "id": "4d0484b6",
   "metadata": {},
   "outputs": [
    {
     "name": "stdout",
     "output_type": "stream",
     "text": [
      "Enter the number56\n",
      "choose operation + or / :/\n",
      "Enter the number13\n",
      "4.3076923076923075\n"
     ]
    }
   ],
   "source": [
    "numb= int(input(\"Enter the number\"))\n",
    "operater = input(\"choose operation + or / :\")\n",
    "numb2 = int(input(\"Enter the number\"))\n",
    "if operater == '+':\n",
    "    sol= numb + numb2\n",
    "    print(sol)\n",
    "elif operater == '/':\n",
    "    sol= numb / numb2\n",
    "    print(sol)\n",
    "else:\n",
    "    print('invalid')"
   ]
  },
  {
   "cell_type": "markdown",
   "id": "af6e2429",
   "metadata": {},
   "source": [
    "### 3. Write a Python program to find the area of a triangle?\n"
   ]
  },
  {
   "cell_type": "code",
   "execution_count": 24,
   "id": "72b379e0",
   "metadata": {},
   "outputs": [
    {
     "name": "stdout",
     "output_type": "stream",
     "text": [
      "Enter the Base :4\n",
      "Enter the Height :4\n",
      "8.0\n"
     ]
    }
   ],
   "source": [
    "base = int(input(\"Enter the Base :\"))\n",
    "height = int(input(\"Enter the Height :\"))\n",
    "area = (height * base)/2\n",
    "print(area)\n"
   ]
  },
  {
   "cell_type": "markdown",
   "id": "b8140061",
   "metadata": {},
   "source": [
    "### 4. Write a Python program to swap two variables?\n"
   ]
  },
  {
   "cell_type": "code",
   "execution_count": 5,
   "id": "87badabd",
   "metadata": {},
   "outputs": [
    {
     "name": "stdout",
     "output_type": "stream",
     "text": [
      "\n",
      "Before swap a = 30 and b = 20\n",
      "\n",
      "After swaping a = 20 and b = 30\n",
      "\n"
     ]
    }
   ],
   "source": [
    "a = 30\n",
    "b = 20\n",
    "print(\"\\nBefore swap a = %d and b = %d\" %(a, b))\n",
    "a, b = b, a\n",
    "print(\"\\nAfter swaping a = %d and b = %d\" %(a, b))\n",
    "print()"
   ]
  },
  {
   "cell_type": "markdown",
   "id": "3f8054c1",
   "metadata": {},
   "source": [
    "### 5. Write a Python program to generate a random number?\n"
   ]
  },
  {
   "cell_type": "code",
   "execution_count": 26,
   "id": "dad9de9b",
   "metadata": {},
   "outputs": [
    {
     "name": "stdout",
     "output_type": "stream",
     "text": [
      "7\n"
     ]
    }
   ],
   "source": [
    "import random\n",
    "print (random.randint(1,10))"
   ]
  }
 ],
 "metadata": {
  "kernelspec": {
   "display_name": "Python 3 (ipykernel)",
   "language": "python",
   "name": "python3"
  },
  "language_info": {
   "codemirror_mode": {
    "name": "ipython",
    "version": 3
   },
   "file_extension": ".py",
   "mimetype": "text/x-python",
   "name": "python",
   "nbconvert_exporter": "python",
   "pygments_lexer": "ipython3",
   "version": "3.9.13"
  }
 },
 "nbformat": 4,
 "nbformat_minor": 5
}
